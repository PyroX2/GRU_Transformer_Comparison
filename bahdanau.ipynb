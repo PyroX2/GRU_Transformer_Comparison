{
 "cells": [
  {
   "cell_type": "code",
   "execution_count": null,
   "metadata": {},
   "outputs": [],
   "source": [
    "# !python -m spacy download fr_core_news_sm"
   ]
  },
  {
   "cell_type": "code",
   "execution_count": 25,
   "metadata": {},
   "outputs": [],
   "source": [
    "import torch\n",
    "from torch import nn\n",
    "import os\n",
    "from torchtext.data.utils import get_tokenizer\n",
    "import spacy\n",
    "import matplotlib.pyplot as plt\n",
    "from collections import Counter\n",
    "from torchtext.vocab import Vocab, build_vocab_from_iterator\n",
    "from tqdm import tqdm\n",
    "import random\n",
    "from torch.nn.utils.rnn import pad_sequence\n",
    "from torch.utils.data import DataLoader\n",
    "import unicodedata\n",
    "from unidecode import unidecode\n",
    "import re"
   ]
  },
  {
   "cell_type": "code",
   "execution_count": 28,
   "metadata": {},
   "outputs": [],
   "source": [
    "# Normalize string\n",
    "def normalizeString(s):\n",
    "    s = unidecode(s.lower())\n",
    "    return s"
   ]
  },
  {
   "cell_type": "code",
   "execution_count": 3,
   "metadata": {},
   "outputs": [],
   "source": [
    "SPECIALS = ['<unk>', '<pad>', '<bos>', '<eos>'] # UNK for unknown words"
   ]
  },
  {
   "cell_type": "code",
   "execution_count": 29,
   "metadata": {},
   "outputs": [],
   "source": [
    "# Open data file and read lines\n",
    "with open(\"./data/pol.txt\") as f:\n",
    "    lines = f.readlines()\n",
    "\n",
    "# For each line split it by TAB\n",
    "for i, line in enumerate(lines):\n",
    "    line = line.split('\\t')\n",
    "    lines[i] = [normalizeString(line[0]), normalizeString(line[1])]\n",
    "\n"
   ]
  },
  {
   "cell_type": "code",
   "execution_count": 37,
   "metadata": {},
   "outputs": [
    {
     "name": "stdout",
     "output_type": "stream",
     "text": [
      "['be strong.', 'badz silny.']\n"
     ]
    }
   ],
   "source": [
    "# Print example line\n",
    "print(lines[random.randint(0, 1000)])"
   ]
  },
  {
   "cell_type": "code",
   "execution_count": 38,
   "metadata": {},
   "outputs": [],
   "source": [
    "# Create tokenizers\n",
    "pl_tokenizer = spacy.load(\"pl_core_news_sm\")\n",
    "en_tokenizer = spacy.load(\"en_core_web_sm\")"
   ]
  },
  {
   "cell_type": "code",
   "execution_count": 46,
   "metadata": {},
   "outputs": [
    {
     "name": "stdout",
     "output_type": "stream",
     "text": [
      "Number of tokens: 2\n",
      "idz\n",
      ".\n"
     ]
    }
   ],
   "source": [
    "# Test tokenizer\n",
    "tokens = pl_tokenizer(lines[0][1])\n",
    "print('Number of tokens:', len(tokens))\n",
    "for token in tokens:\n",
    "    print(token)"
   ]
  },
  {
   "cell_type": "code",
   "execution_count": 54,
   "metadata": {},
   "outputs": [
    {
     "name": "stderr",
     "output_type": "stream",
     "text": [
      "  0%|          | 0/1000 [00:00<?, ?it/s]"
     ]
    },
    {
     "name": "stderr",
     "output_type": "stream",
     "text": [
      "100%|██████████| 1000/1000 [00:28<00:00, 34.80it/s]\n"
     ]
    }
   ],
   "source": [
    "# Counter object works similar to dictionary in which each element is key and value is number of times this element is present\n",
    "pl_counter = Counter()\n",
    "en_counter = Counter()\n",
    "\n",
    "# Lists for storing Polish and English sentences\n",
    "pl_list = []\n",
    "en_list = []\n",
    "\n",
    "# Lists for storing number of tokens in sentences \n",
    "pl_lengths = []\n",
    "en_lengths = []\n",
    "\n",
    "for line in tqdm(lines[:1000]):\n",
    "    # Tokenize sentences\n",
    "    en_tokens = en_tokenizer(line[0])\n",
    "    pl_tokens = pl_tokenizer(line[1])\n",
    "\n",
    "    # Concatenate tokens to lists (each tokenized sentence is different element in the list)\n",
    "    pl_list += pl_tokens\n",
    "    en_list += en_tokens\n",
    "\n",
    "    # Append number of tokens in sentences\n",
    "    pl_lengths.append(len(pl_tokens))\n",
    "    en_lengths.append(len(en_tokens))\n",
    "\n",
    "    # Update counters with new tokens\n",
    "    pl_counter.update(pl_tokens)\n",
    "    en_counter.update(en_tokens)"
   ]
  },
  {
   "cell_type": "code",
   "execution_count": 68,
   "metadata": {},
   "outputs": [],
   "source": [
    "pl_list = [str(token) for token in pl_list]\n",
    "en_list = [str(token) for token in en_list]"
   ]
  },
  {
   "cell_type": "code",
   "execution_count": 69,
   "metadata": {},
   "outputs": [
    {
     "name": "stdout",
     "output_type": "stream",
     "text": [
      "Polish tokens:  ['idz', '.', 'czesc', '.', 'uciekaj', '!', 'biegnij', '.', 'uciekaj', '.', 'kto', '?', 'o', ',', 'dziamdzia', 'zaprzala', 'jej', 'szadz', '!', 'lal']\n",
      "English tokens:  ['go', '.', 'hi', '.', 'run', '!', 'run', '.', 'run', '.', 'who', '?', 'wow', '!', 'wow', '!', 'duck', '!', 'fire', '!']\n"
     ]
    }
   ],
   "source": [
    "print('Polish tokens: ', pl_list[:20])\n",
    "print('English tokens: ', en_list[:20])"
   ]
  },
  {
   "cell_type": "code",
   "execution_count": 70,
   "metadata": {},
   "outputs": [],
   "source": [
    "# Create torchtext Vocabs from lists of tokens\n",
    "en_vocab = build_vocab_from_iterator([en_list])\n",
    "pl_vocab = build_vocab_from_iterator([pl_list])"
   ]
  },
  {
   "cell_type": "code",
   "execution_count": 58,
   "metadata": {},
   "outputs": [
    {
     "ename": "TypeError",
     "evalue": "__getitem__(): incompatible function arguments. The following argument types are supported:\n    1. (self: torchtext._torchtext.Vocab, arg0: str) -> int\n\nInvoked with: <torchtext._torchtext.Vocab object at 0x7223c57fb830>, go",
     "output_type": "error",
     "traceback": [
      "\u001b[0;31m---------------------------------------------------------------------------\u001b[0m",
      "\u001b[0;31mTypeError\u001b[0m                                 Traceback (most recent call last)",
      "Cell \u001b[0;32mIn[58], line 11\u001b[0m\n\u001b[1;32m      8\u001b[0m random\u001b[38;5;241m.\u001b[39mseed(\u001b[38;5;241m6547\u001b[39m)\n\u001b[1;32m      9\u001b[0m \u001b[38;5;28;01mfor\u001b[39;00m (en, pl) \u001b[38;5;129;01min\u001b[39;00m lines:\n\u001b[1;32m     10\u001b[0m     \u001b[38;5;66;03m# Tokenizes words, takes each token and gets item from torchtext Vocab. __getitem__ from torchtext Vocab returns index of this token\u001b[39;00m\n\u001b[0;32m---> 11\u001b[0m     en_tensor_ \u001b[38;5;241m=\u001b[39m torch\u001b[38;5;241m.\u001b[39mtensor([\u001b[43men_vocab\u001b[49m\u001b[43m[\u001b[49m\u001b[43mtoken\u001b[49m\u001b[43m]\u001b[49m \u001b[38;5;28;01mfor\u001b[39;00m token \u001b[38;5;129;01min\u001b[39;00m en_tokenizer(en)])\n\u001b[1;32m     12\u001b[0m     fr_tensor_ \u001b[38;5;241m=\u001b[39m torch\u001b[38;5;241m.\u001b[39mtensor([pl_vocab[token] \u001b[38;5;28;01mfor\u001b[39;00m token \u001b[38;5;129;01min\u001b[39;00m pl_tokenizer(pl)]) \n\u001b[1;32m     14\u001b[0m     \u001b[38;5;66;03m# Gets random number from 0 to 1 and adds the token to the appropriate dataset\u001b[39;00m\n",
      "File \u001b[0;32m~/anaconda3/envs/transformers/lib/python3.12/site-packages/torchtext/vocab/vocab.py:65\u001b[0m, in \u001b[0;36mVocab.__getitem__\u001b[0;34m(self, token)\u001b[0m\n\u001b[1;32m     56\u001b[0m \u001b[38;5;129m@torch\u001b[39m\u001b[38;5;241m.\u001b[39mjit\u001b[38;5;241m.\u001b[39mexport\n\u001b[1;32m     57\u001b[0m \u001b[38;5;28;01mdef\u001b[39;00m \u001b[38;5;21m__getitem__\u001b[39m(\u001b[38;5;28mself\u001b[39m, token: \u001b[38;5;28mstr\u001b[39m) \u001b[38;5;241m-\u001b[39m\u001b[38;5;241m>\u001b[39m \u001b[38;5;28mint\u001b[39m:\n\u001b[1;32m     58\u001b[0m \u001b[38;5;250m    \u001b[39m\u001b[38;5;124mr\u001b[39m\u001b[38;5;124;03m\"\"\"\u001b[39;00m\n\u001b[1;32m     59\u001b[0m \u001b[38;5;124;03m    Args:\u001b[39;00m\n\u001b[1;32m     60\u001b[0m \u001b[38;5;124;03m        token: The token used to lookup the corresponding index.\u001b[39;00m\n\u001b[0;32m   (...)\u001b[0m\n\u001b[1;32m     63\u001b[0m \u001b[38;5;124;03m        The index corresponding to the associated token.\u001b[39;00m\n\u001b[1;32m     64\u001b[0m \u001b[38;5;124;03m    \"\"\"\u001b[39;00m\n\u001b[0;32m---> 65\u001b[0m     \u001b[38;5;28;01mreturn\u001b[39;00m \u001b[38;5;28;43mself\u001b[39;49m\u001b[38;5;241;43m.\u001b[39;49m\u001b[43mvocab\u001b[49m\u001b[43m[\u001b[49m\u001b[43mtoken\u001b[49m\u001b[43m]\u001b[49m\n",
      "\u001b[0;31mTypeError\u001b[0m: __getitem__(): incompatible function arguments. The following argument types are supported:\n    1. (self: torchtext._torchtext.Vocab, arg0: str) -> int\n\nInvoked with: <torchtext._torchtext.Vocab object at 0x7223c57fb830>, go"
     ]
    }
   ],
   "source": [
    "VALID_PCT = 0.1\n",
    "TEST_PCT  = 0.1\n",
    "\n",
    "train_data = []\n",
    "valid_data = []\n",
    "test_data = []\n",
    "\n",
    "random.seed(6547)\n",
    "for (en, pl) in lines:\n",
    "    # Tokenizes words, takes each token and gets item from torchtext Vocab. __getitem__ from torchtext Vocab returns index of this token\n",
    "    en_tensor_ = torch.tensor([en_vocab[token] for token in en_tokenizer(en)])\n",
    "    fr_tensor_ = torch.tensor([pl_vocab[token] for token in pl_tokenizer(pl)]) \n",
    "    \n",
    "    # Gets random number from 0 to 1 and adds the token to the appropriate dataset\n",
    "    random_draw = random.random()\n",
    "    if random_draw <= VALID_PCT:\n",
    "        valid_data.append((en_tensor_, fr_tensor_))\n",
    "    elif random_draw <= VALID_PCT + TEST_PCT:\n",
    "        test_data.append((en_tensor_, fr_tensor_))\n",
    "    else:\n",
    "        train_data.append((en_tensor_, fr_tensor_))\n",
    "\n",
    "\n",
    "print(f\"\"\"\n",
    "  Training pairs: {len(train_data):,}\n",
    "Validation pairs: {len(valid_data):,}\n",
    "      Test pairs: {len(test_data):,}\"\"\")"
   ]
  },
  {
   "cell_type": "code",
   "execution_count": null,
   "metadata": {},
   "outputs": [
    {
     "ename": "NameError",
     "evalue": "name 'en_vocab' is not defined",
     "output_type": "error",
     "traceback": [
      "\u001b[0;31m---------------------------------------------------------------------------\u001b[0m",
      "\u001b[0;31mNameError\u001b[0m                                 Traceback (most recent call last)",
      "Cell \u001b[0;32mIn[15], line 1\u001b[0m\n\u001b[0;32m----> 1\u001b[0m PAD_IDX \u001b[38;5;241m=\u001b[39m \u001b[43men_vocab\u001b[49m[\u001b[38;5;124m'\u001b[39m\u001b[38;5;124m<pad>\u001b[39m\u001b[38;5;124m'\u001b[39m]\n\u001b[1;32m      2\u001b[0m BOS_IDX \u001b[38;5;241m=\u001b[39m en_vocab[\u001b[38;5;124m'\u001b[39m\u001b[38;5;124m<bos>\u001b[39m\u001b[38;5;124m'\u001b[39m]\n\u001b[1;32m      3\u001b[0m EOS_IDX \u001b[38;5;241m=\u001b[39m en_vocab[\u001b[38;5;124m'\u001b[39m\u001b[38;5;124m<eos>\u001b[39m\u001b[38;5;124m'\u001b[39m]\n",
      "\u001b[0;31mNameError\u001b[0m: name 'en_vocab' is not defined"
     ]
    }
   ],
   "source": [
    "PAD_IDX = en_vocab['<pad>']\n",
    "BOS_IDX = en_vocab['<bos>']\n",
    "EOS_IDX = en_vocab['<eos>']\n",
    "\n",
    "for en_id, fr_id in zip(en_vocab.lookup_indices(SPECIALS), pl_vocab.lookup_indices(SPECIALS)):\n",
    "  assert en_id == fr_id"
   ]
  },
  {
   "cell_type": "code",
   "execution_count": null,
   "metadata": {},
   "outputs": [],
   "source": [
    "def generate_batch(data_batch):\n",
    "    '''\n",
    "    Prepare English and French examples for batch-friendly modeling by appending\n",
    "    BOS/EOS tokens to each, stacking the tensors, and filling trailing spaces of\n",
    "    shorter sentences with the <pad> token. To be used as the collate_fn in the\n",
    "    English-to-French DataLoader.\n",
    "\n",
    "    Input: \n",
    "    - data_batch, an iterable of (English, French) tuples from the datasets \n",
    "      created above\n",
    "\n",
    "    Outputs\n",
    "    - en_batch: a (max length X batch size) tensor of English token IDs\n",
    "    - fr_batch: a (max length X batch size) tensor of French token IDs \n",
    "    '''\n",
    "    en_batch, fr_batch = [], []\n",
    "    for (en_item, fr_item) in data_batch:\n",
    "        en_batch.append(torch.cat([torch.tensor([BOS_IDX]), en_item, torch.tensor([EOS_IDX])], dim=0))\n",
    "        fr_batch.append(torch.cat([torch.tensor([BOS_IDX]), fr_item, torch.tensor([EOS_IDX])], dim=0))\n",
    "\n",
    "    en_batch = pad_sequence(en_batch, padding_value=PAD_IDX, batch_first=False)\n",
    "    fr_batch = pad_sequence(fr_batch, padding_value=PAD_IDX, batch_first=False)\n",
    "\n",
    "    return en_batch, fr_batch"
   ]
  },
  {
   "cell_type": "code",
   "execution_count": null,
   "metadata": {},
   "outputs": [],
   "source": [
    "BATCH_SIZE = 16\n",
    "\n",
    "train_iter = DataLoader(train_data, batch_size=BATCH_SIZE, shuffle=True, collate_fn=generate_batch)\n",
    "valid_iter = DataLoader(valid_data, batch_size=BATCH_SIZE, shuffle=False, collate_fn=generate_batch)\n",
    "test_iter = DataLoader(test_data, batch_size=BATCH_SIZE, shuffle=False, collate_fn=generate_batch)\n"
   ]
  },
  {
   "cell_type": "code",
   "execution_count": null,
   "metadata": {},
   "outputs": [
    {
     "data": {
      "text/plain": [
       "['Go. ###Idź.',\n",
       " 'Hi. ###Cześć.',\n",
       " 'Run! ###Uciekaj!',\n",
       " 'Run. ###Biegnij.',\n",
       " 'Run. ###Uciekaj.',\n",
       " 'Who? ###Kto?',\n",
       " 'Wow! ###O, dziamdzia zaprzała jej szadź!',\n",
       " 'Wow! ###Łał!',\n",
       " 'Duck! ###Unik!',\n",
       " 'Fire! ###Pali się!',\n",
       " 'Fire! ###Strzelaj!',\n",
       " 'Fire! ###Ognia!',\n",
       " 'Help! ###Pomocy!',\n",
       " 'Hide. ###Schowaj się.',\n",
       " 'Jump! ###Skacz!',\n",
       " 'Jump. ###Skok.',\n",
       " 'Stay. ###Zostań.',\n",
       " 'Stop! ###Stój!',\n",
       " 'Stop! ###Zatrzymaj się!',\n",
       " 'Wait! ###Czekaj!',\n",
       " 'Wait! ###Zaczekaj!',\n",
       " 'Wait! ###Poczekaj!',\n",
       " 'Wait! ###Czekajcie!',\n",
       " 'Wait! ###Poczekajcie!',\n",
       " 'Wait! ###Zaczekajcie!',\n",
       " 'Wait! ###Niech pan zaczeka!',\n",
       " 'Wait! ###Niech pani zaczeka!',\n",
       " 'Wait. ###Czekajcie.',\n",
       " 'Wait. ###Zaczekaj.',\n",
       " 'Wait. ###Czekaj.',\n",
       " 'Wait. ###Poczekaj.',\n",
       " 'Wait. ###Poczekajcie.',\n",
       " 'Wait. ###Zaczekajcie.',\n",
       " 'Begin. ###Zaczynaj.',\n",
       " 'Begin. ###Zaczynajcie.',\n",
       " 'Do it. ###Zrób to.',\n",
       " 'Hello! ###Cześć.',\n",
       " 'Hello. ###Cześć.',\n",
       " 'Hurry! ###Pośpiesz się!',\n",
       " 'I hid. ###Ukryłem się.',\n",
       " 'I ran. ###Pobiegłem.',\n",
       " 'I ran. ###Pobiegłam.',\n",
       " 'I see. ###Rozumiem.',\n",
       " 'I see. ###Widzę.',\n",
       " 'I try. ###Próbuje.',\n",
       " 'I won! ###Wygrałem!',\n",
       " 'I won. ###Wygrałem.',\n",
       " 'I won. ###Zwyciężyłem.',\n",
       " 'Oh no! ###O nie!',\n",
       " 'Relax. ###Wyluzuj.',\n",
       " 'Shoot! ###Strzelaj!',\n",
       " 'Shoot! ###Ognia!',\n",
       " 'Smile. ###Uśmiech.',\n",
       " 'Sorry? ###Przepraszam?',\n",
       " 'Ask me. ###Spytaj mnie.',\n",
       " 'Attack! ###Atak!',\n",
       " 'Attack! ###Do ataku!',\n",
       " 'Buy it. ###Kup je.',\n",
       " 'Buy it. ###Kup go.',\n",
       " 'Buy it. ###Kup ją.',\n",
       " 'Cheers! ###Na zdrowie!',\n",
       " 'Cheers! ###Twoje zdrowie!',\n",
       " 'Eat it. ###Zjedz to.',\n",
       " 'Exhale. ###Wydech.',\n",
       " 'Freeze! ###Stój!',\n",
       " 'Freeze! ###Nie ruszaj się!',\n",
       " 'Get up. ###Wstawaj.',\n",
       " 'Go now. ###Idź już.',\n",
       " 'Got it! ###Rozumiem!',\n",
       " 'Got it? ###Rozumiesz?',\n",
       " 'Got it? ###Kapujesz?',\n",
       " 'He ran. ###On pobiegł.',\n",
       " 'Hop in. ###Wskakuj.',\n",
       " 'Hug me. ###Przytul mnie.',\n",
       " 'I care. ###Mi zależy.',\n",
       " 'I fell. ###Przewróciłam się.',\n",
       " 'I fled. ###Uciekłem.',\n",
       " 'I fled. ###Uciekłam.',\n",
       " 'I knit. ###Robiłem na drutach.',\n",
       " 'I knit. ###Robiłam na drutach.',\n",
       " 'I know. ###Wiem.',\n",
       " 'I left. ###Wyjechałam.',\n",
       " 'I left. ###Odszedłem.',\n",
       " 'I left. ###Wyjechałam',\n",
       " 'I left. ###Wyszłam.',\n",
       " 'I left. ###Odeszłam.',\n",
       " 'I left. ###Wyszedłem.',\n",
       " 'I lied. ###Kłamałem.',\n",
       " 'I lied. ###Skłamałem.',\n",
       " 'I lost. ###Przegrałem.',\n",
       " 'I paid. ###Zapłaciłem.',\n",
       " 'I quit. ###Wychodzę.',\n",
       " 'I sang. ###Śpiewałem.',\n",
       " 'I sang. ###Śpiewałam.',\n",
       " 'I spit. ###Splunąłem.',\n",
       " 'I spit. ###Splunęłam.',\n",
       " 'I swim. ###Pływam.',\n",
       " 'I work. ###Pracuję.',\n",
       " \"I'm OK. ###Ze mną wszystko w porządku.\",\n",
       " \"I'm up. ###Wstałem.\"]"
      ]
     },
     "execution_count": 33,
     "metadata": {},
     "output_type": "execute_result"
    }
   ],
   "source": [
    "sentence_pairs"
   ]
  },
  {
   "cell_type": "code",
   "execution_count": null,
   "metadata": {},
   "outputs": [],
   "source": [
    "MAX_SENTENCE_LENGTH = 20"
   ]
  },
  {
   "cell_type": "code",
   "execution_count": null,
   "metadata": {},
   "outputs": [
    {
     "data": {
      "text/plain": [
       "<matplotlib.colorbar.Colorbar at 0x72b667eb6570>"
      ]
     },
     "execution_count": 31,
     "metadata": {},
     "output_type": "execute_result"
    },
    {
     "data": {
      "image/png": "[encoded data removed]",
      "text/plain": [
       "<Figure size 640x480 with 2 Axes>"
      ]
     },
     "metadata": {},
     "output_type": "display_data"
    }
   ],
   "source": [
    "plt.hist2d(en_lengths, pl_lengths, bins=40, cmap='binary', cmin=4)\n",
    "plt.xlim((0, 100))\n",
    "plt.ylim((0, 100))\n",
    "plt.colorbar()"
   ]
  },
  {
   "cell_type": "code",
   "execution_count": null,
   "metadata": {},
   "outputs": [],
   "source": [
    "ENCODER_EMBEDDING_DIM = 256\n",
    "DECODER_EMBEDDING_DIM = 256\n",
    "ENCODER_HIDDEN_DIM = 256\n",
    "DECODER_HIDDEN_DIM = 256\n",
    "SAVE_DIR = os.path.join(\".\", \"models\")"
   ]
  },
  {
   "cell_type": "code",
   "execution_count": null,
   "metadata": {},
   "outputs": [],
   "source": [
    "class BahdanauSeq2Seq(nn.Module):\n",
    "    def __init__(self, encoder, decoder, device):\n",
    "        super().__init__()\n",
    "        self.encoder = encoder.to(device)\n",
    "        self.decoder = decoder.to(device)\n",
    "        self.device = device\n",
    "\n",
    "    def forward(self, x):\n",
    "        outputs, hidden = self.encoder(x)\n",
    "\n",
    "\n",
    "class BahdanauEncoder(nn.Module):\n",
    "    def __init__(self, input_dim, embedding_dim,\n",
    "                 encoder_hidden_dim, decoder_hidden_dim, dropout_p):\n",
    "        super().__init__()\n",
    "        self.input_dim = input_dim\n",
    "        self.embedding_dim = embedding_dim\n",
    "        self.encoder_hidden_dim = encoder_hidden_dim\n",
    "        self.decoder_hidden_dim = decoder_hidden_dim\n",
    "        self.dropout_p = dropout_p\n",
    "\n",
    "        self.embedding = nn.Embedding(input_dim, embedding_dim)\n",
    "        self.gru = nn.GRU(embedding_dim, encoder_hidden_dim,\n",
    "                          bidirectional=True)\n",
    "        # Times 2 because of bidirectional (I guess)\n",
    "        self.linear = nn.Linear(encoder_hidden_dim*2, decoder_hidden_dim)\n",
    "        self.dropout = nn.Dropout(dropout_p)\n",
    "\n",
    "    def forward(self, x):\n",
    "        embedded = self.dropout(self.embedding(x))\n",
    "        outputs, hidden = self.gru(embedded)\n",
    "        hidden = torch.tanh(self.linear(\n",
    "            torch.cat((hidden[-2, :, :], hidden[-1, :, :]),\n",
    "                      dim=1)\n",
    "        ))\n",
    "        return outputs, hidden\n",
    "\n",
    "\n",
    "class BahdanauAttention(nn.Module):\n",
    "    def __init__(self, hidden_size, query_size=None,\n",
    "                 key_size=None, dropout_p=0.15):\n",
    "        super().__init__()\n",
    "        self.hidden_size = hidden_size\n",
    "        self.query_size = hidden_size if query_size is None else query_size\n",
    "        # Assume that encoder is bidirectional (times 2)\n",
    "        self.key_size = 2*hidden_size if key_size is None else key_size\n",
    "\n",
    "        self.query_layer = nn.Linear(self.query_size, hidden_size)\n",
    "        self.key_layer = nn.Linear(self.key_size, hidden_size)\n",
    "        self.energy_layer = nn.Linear(hidden_size, 1)\n",
    "        self.dropout = nn.Dropout(dropout_p)\n",
    "\n",
    "    def forward(self, hidden, encoder_outputs, src_mask=None):\n",
    "        query_out = self.query_layer(hidden)\n",
    "        key_out = self.key_layer(encoder_outputs)\n",
    "        energy_input = torch.tanh(query_out + key_out)\n",
    "        energies = self.energy_layer(energy_input).squeeze(2)\n",
    "\n",
    "        if src_mask is not None:\n",
    "            energies.data.masked_fill_(src_mask == 0, float(\"-inf\"))\n",
    "\n",
    "        weights = torch.softmax(energies, dim=0)\n",
    "        return weights.transpose(0, 1)\n",
    "\n",
    "\n",
    "class BahdanauDecoder(nn.Module):\n",
    "    def __init__(self, output_dim, embedding_dim, encoder_hidden_dim,\n",
    "                 decoder_hidden_dim, attention, dropout_p):\n",
    "        super().__init__()\n",
    "        self.embedding_dim = embedding_dim\n",
    "        self.encoder_hidden_dim = encoder_hidden_dim\n",
    "        self.decoder_hidden_dim = decoder_hidden_dim\n",
    "        self.dropout_p = dropout_p\n",
    "        self.embedding = nn.Embedding(output_dim, embedding_dim)\n",
    "        self.attention = attention\n",
    "        self.gru = nn.GRU((encoder_hidden_dim*2) +\n",
    "                          embedding_dim, decoder_hidden_dim)\n",
    "        self.out = nn.Linear((encoder_hidden_dim*2) +\n",
    "                             embedding_dim+decoder_hidden_dim, output_dim)\n",
    "        self.dropout = nn.Dropout(dropout_p)\n",
    "\n",
    "    def forward(self, input, hidden, encoder_outputs, src_mask=None):\n",
    "        input = input.unsqueeze(0)\n",
    "        embedded = self.dropout(self.embedding(input))\n",
    "        attentions = self.attention(hidden, encoder_outputs, src_mask)\n",
    "        a = attentions.unsqueeze(1)\n",
    "        encoder_outputs = encoder_outputs.transpose(0, 1)\n",
    "\n",
    "        '''Multiplying two matrices that are batched. If 1st batched matrix size is (10, 3, 5) \n",
    "        and 2nd batched matrix size is (10, 5, 6) then output matrix size will be (10, 3, 6)'''\n",
    "        weighted = torch.bmm(a, encoder_outputs)\n",
    "        weighted = weighted.transpose(0, 1)\n",
    "\n",
    "        rnn_input = torch.cat((embedded, weighted), dim=2)\n",
    "        output, hidden = self.gru(rnn_input, hidden.unsqueeze(0))\n",
    "\n",
    "        assert (output == hidden).all()\n",
    "\n",
    "        embedded = embedded.squeeze(0)\n",
    "        output = output.squeeze(0)\n",
    "        weighted = weighted.squeeze(0)\n",
    "\n",
    "        linear_input = torch.cat((output, weighted, embedded), dim=1)\n",
    "\n",
    "        output = self.out(linear_input)\n",
    "        return output, hidden.squeeze(0), attentions\n"
   ]
  },
  {
   "cell_type": "code",
   "execution_count": null,
   "metadata": {},
   "outputs": [
    {
     "ename": "NameError",
     "evalue": "name 'en_vocab' is not defined",
     "output_type": "error",
     "traceback": [
      "\u001b[0;31m---------------------------------------------------------------------------\u001b[0m",
      "\u001b[0;31mNameError\u001b[0m                                 Traceback (most recent call last)",
      "Cell \u001b[0;32mIn[10], line 16\u001b[0m\n\u001b[1;32m     12\u001b[0m     seq2seq \u001b[38;5;241m=\u001b[39m BahdanauSeq2Seq(enc, dec, device)\n\u001b[1;32m     15\u001b[0m \u001b[38;5;28;01mif\u001b[39;00m \u001b[38;5;18m__name__\u001b[39m \u001b[38;5;241m==\u001b[39m \u001b[38;5;124m'\u001b[39m\u001b[38;5;124m__main__\u001b[39m\u001b[38;5;124m'\u001b[39m:\n\u001b[0;32m---> 16\u001b[0m     \u001b[43mmain\u001b[49m\u001b[43m(\u001b[49m\u001b[43m)\u001b[49m\n",
      "Cell \u001b[0;32mIn[10], line 7\u001b[0m, in \u001b[0;36mmain\u001b[0;34m()\u001b[0m\n\u001b[1;32m      5\u001b[0m \u001b[38;5;28;01melse\u001b[39;00m:\n\u001b[1;32m      6\u001b[0m     device \u001b[38;5;241m=\u001b[39m \u001b[38;5;124m\"\u001b[39m\u001b[38;5;124mcpu\u001b[39m\u001b[38;5;124m\"\u001b[39m\n\u001b[0;32m----> 7\u001b[0m enc \u001b[38;5;241m=\u001b[39m BahdanauEncoder(\u001b[38;5;28mlen\u001b[39m(\u001b[43men_vocab\u001b[49m), ENCODER_EMBEDDING_DIM,\n\u001b[1;32m      8\u001b[0m                       ENCODER_HIDDEN_DIM, DECODER_HIDDEN_DIM, \u001b[38;5;241m0.15\u001b[39m)\n\u001b[1;32m      9\u001b[0m attn \u001b[38;5;241m=\u001b[39m BahdanauAttention(DECODER_HIDDEN_DIM)\n\u001b[1;32m     10\u001b[0m dec \u001b[38;5;241m=\u001b[39m BahdanauDecoder(\u001b[38;5;28mlen\u001b[39m(fr_vocab), DECODER_EMBEDDING_DIM,\n\u001b[1;32m     11\u001b[0m                       ENCODER_HIDDEN_DIM, DECODER_HIDDEN_DIM, attn, \u001b[38;5;241m0.15\u001b[39m)\n",
      "\u001b[0;31mNameError\u001b[0m: name 'en_vocab' is not defined"
     ]
    }
   ],
   "source": [
    "def main():\n",
    "\n",
    "    if torch.cuda.is_available():\n",
    "        device = \"cuda\"\n",
    "    else:\n",
    "        device = \"cpu\"\n",
    "    enc = BahdanauEncoder(len(en_vocab), ENCODER_EMBEDDING_DIM,\n",
    "                          ENCODER_HIDDEN_DIM, DECODER_HIDDEN_DIM, 0.15)\n",
    "    attn = BahdanauAttention(DECODER_HIDDEN_DIM)\n",
    "    dec = BahdanauDecoder(len(fr_vocab), DECODER_EMBEDDING_DIM,\n",
    "                          ENCODER_HIDDEN_DIM, DECODER_HIDDEN_DIM, attn, 0.15)\n",
    "    seq2seq = BahdanauSeq2Seq(enc, dec, device)\n",
    "\n",
    "\n",
    "if __name__ == '__main__':\n",
    "    main()"
   ]
  }
 ],
 "metadata": {
  "kernelspec": {
   "display_name": "transformers",
   "language": "python",
   "name": "python3"
  },
  "language_info": {
   "codemirror_mode": {
    "name": "ipython",
    "version": 3
   },
   "file_extension": ".py",
   "mimetype": "text/x-python",
   "name": "python",
   "nbconvert_exporter": "python",
   "pygments_lexer": "ipython3",
   "version": "3.12.2"
  }
 },
 "nbformat": 4,
 "nbformat_minor": 2
}
