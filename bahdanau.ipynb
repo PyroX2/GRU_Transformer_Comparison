{
 "cells": [
  {
   "cell_type": "code",
   "execution_count": null,
   "metadata": {},
   "outputs": [],
   "source": [
    "# !python -m spacy download fr_core_news_sm"
   ]
  },
  {
   "cell_type": "code",
   "execution_count": 1,
   "metadata": {},
   "outputs": [
    {
     "name": "stderr",
     "output_type": "stream",
     "text": [
      "/home/jakub/anaconda3/envs/transformers/lib/python3.12/site-packages/torchtext/data/__init__.py:4: UserWarning: \n",
      "/!\\ IMPORTANT WARNING ABOUT TORCHTEXT STATUS /!\\ \n",
      "Torchtext is deprecated and the last released version will be 0.18 (this one). You can silence this warning by calling the following at the beginnign of your scripts: `import torchtext; torchtext.disable_torchtext_deprecation_warning()`\n",
      "  warnings.warn(torchtext._TORCHTEXT_DEPRECATION_MSG)\n",
      "/home/jakub/anaconda3/envs/transformers/lib/python3.12/site-packages/torchtext/vocab/__init__.py:4: UserWarning: \n",
      "/!\\ IMPORTANT WARNING ABOUT TORCHTEXT STATUS /!\\ \n",
      "Torchtext is deprecated and the last released version will be 0.18 (this one). You can silence this warning by calling the following at the beginnign of your scripts: `import torchtext; torchtext.disable_torchtext_deprecation_warning()`\n",
      "  warnings.warn(torchtext._TORCHTEXT_DEPRECATION_MSG)\n",
      "/home/jakub/anaconda3/envs/transformers/lib/python3.12/site-packages/torchtext/utils.py:4: UserWarning: \n",
      "/!\\ IMPORTANT WARNING ABOUT TORCHTEXT STATUS /!\\ \n",
      "Torchtext is deprecated and the last released version will be 0.18 (this one). You can silence this warning by calling the following at the beginnign of your scripts: `import torchtext; torchtext.disable_torchtext_deprecation_warning()`\n",
      "  warnings.warn(torchtext._TORCHTEXT_DEPRECATION_MSG)\n"
     ]
    }
   ],
   "source": [
    "import torch\n",
    "from torch import nn\n",
    "import os\n",
    "from torchtext.data.utils import get_tokenizer\n",
    "import torch.nn.functional as F\n",
    "import spacy\n",
    "import matplotlib.pyplot as plt\n",
    "from collections import Counter\n",
    "from torchtext.vocab import Vocab, build_vocab_from_iterator\n",
    "from tqdm import tqdm\n",
    "import random\n",
    "from torch.nn.utils.rnn import pad_sequence\n",
    "from torch.utils.data import DataLoader\n",
    "from unidecode import unidecode\n",
    "import numpy as np\n",
    "import pandas as pd\n",
    "from matplotlib import ticker"
   ]
  },
  {
   "cell_type": "code",
   "execution_count": 28,
   "metadata": {},
   "outputs": [],
   "source": [
    "# Normalize string\n",
    "def normalizeString(s):\n",
    "    s = unidecode(s.lower())\n",
    "    return s"
   ]
  },
  {
   "cell_type": "code",
   "execution_count": 162,
   "metadata": {},
   "outputs": [],
   "source": [
    "SPECIALS = ['<unk>', '<pad>', '<bos>', '<eos>'] # UNK for unknown words\n",
    "NUMBER_OF_SENTENCES = 1000"
   ]
  },
  {
   "cell_type": "code",
   "execution_count": 29,
   "metadata": {},
   "outputs": [],
   "source": [
    "# Open data file and read lines\n",
    "with open(\"./data/pol.txt\") as f:\n",
    "    lines = f.readlines()\n",
    "\n",
    "# For each line split it by TAB\n",
    "for i, line in enumerate(lines):\n",
    "    line = line.split('\\t')\n",
    "    lines[i] = [normalizeString(line[0]), normalizeString(line[1])]\n",
    "\n"
   ]
  },
  {
   "cell_type": "code",
   "execution_count": 37,
   "metadata": {},
   "outputs": [
    {
     "name": "stdout",
     "output_type": "stream",
     "text": [
      "['be strong.', 'badz silny.']\n"
     ]
    }
   ],
   "source": [
    "# Print example line\n",
    "print(lines[random.randint(0, 1000)])"
   ]
  },
  {
   "cell_type": "code",
   "execution_count": 38,
   "metadata": {},
   "outputs": [],
   "source": [
    "# Create tokenizers\n",
    "pl_tokenizer = spacy.load(\"pl_core_news_sm\")\n",
    "en_tokenizer = spacy.load(\"en_core_web_sm\")"
   ]
  },
  {
   "cell_type": "code",
   "execution_count": 46,
   "metadata": {},
   "outputs": [
    {
     "name": "stdout",
     "output_type": "stream",
     "text": [
      "Number of tokens: 2\n",
      "idz\n",
      ".\n"
     ]
    }
   ],
   "source": [
    "# Test tokenizer\n",
    "tokens = pl_tokenizer(lines[0][1])\n",
    "print('Number of tokens:', len(tokens))\n",
    "for token in tokens:\n",
    "    print(token)"
   ]
  },
  {
   "cell_type": "code",
   "execution_count": 118,
   "metadata": {},
   "outputs": [
    {
     "name": "stderr",
     "output_type": "stream",
     "text": [
      "  0%|          | 0/1000 [00:00<?, ?it/s]"
     ]
    },
    {
     "name": "stderr",
     "output_type": "stream",
     "text": [
      "100%|██████████| 1000/1000 [00:18<00:00, 52.97it/s]\n"
     ]
    }
   ],
   "source": [
    "# Lists for storing Polish and English sentences\n",
    "pl_list = []\n",
    "en_list = []\n",
    "\n",
    "# Lists for storing number of tokens in sentences \n",
    "pl_lengths = []\n",
    "en_lengths = []\n",
    "\n",
    "for line in tqdm(lines[:NUMBER_OF_SENTENCES]):\n",
    "    # Tokenize sentences\n",
    "    en_tokens = en_tokenizer(line[0])\n",
    "    pl_tokens = pl_tokenizer(line[1])\n",
    "\n",
    "    # Concatenate tokens to lists (each tokenized sentence is different element in the list)\n",
    "    pl_list += pl_tokens\n",
    "    en_list += en_tokens\n",
    "\n",
    "    # Append number of tokens in sentences\n",
    "    pl_lengths.append(len(pl_tokens))\n",
    "    en_lengths.append(len(en_tokens))"
   ]
  },
  {
   "cell_type": "code",
   "execution_count": 124,
   "metadata": {},
   "outputs": [],
   "source": [
    "# Split sentences into string tokens \n",
    "pl_token_list = [str(token) for token in pl_list]\n",
    "en_token_list = [str(token) for token in en_list]\n",
    "\n",
    "# Counter object works similar to dictionary in which each element is key and value is number of times this element is present\n",
    "pl_counter = Counter()\n",
    "en_counter = Counter()\n",
    "\n",
    "for token in pl_token_list:\n",
    "    pl_counter[token] += 1\n",
    "for token in en_token_list:\n",
    "    en_counter[token] += 1"
   ]
  },
  {
   "cell_type": "code",
   "execution_count": 129,
   "metadata": {},
   "outputs": [],
   "source": [
    "# Extract 10 most common tokens\n",
    "en_most_common = en_counter.most_common(10)\n",
    "pl_most_common = pl_counter.most_common(10)"
   ]
  },
  {
   "cell_type": "code",
   "execution_count": 143,
   "metadata": {},
   "outputs": [
    {
     "data": {
      "image/png": "[encoded data removed]",
      "text/plain": [
       "<Figure size 640x480 with 1 Axes>"
      ]
     },
     "metadata": {},
     "output_type": "display_data"
    },
    {
     "data": {
      "image/png": "[encoded data removed]",
      "text/plain": [
       "<Figure size 640x480 with 1 Axes>"
      ]
     },
     "metadata": {},
     "output_type": "display_data"
    }
   ],
   "source": [
    "# Bar plots of most common tokens\n",
    "plt.bar([token[0] for token in en_most_common], [token[1] for token in en_most_common])\n",
    "plt.show()\n",
    "plt.bar([token[0] for token in pl_most_common], [token[1] for token in pl_most_common])\n",
    "plt.show()"
   ]
  },
  {
   "cell_type": "code",
   "execution_count": 144,
   "metadata": {},
   "outputs": [
    {
     "name": "stdout",
     "output_type": "stream",
     "text": [
      "Polish tokens:  [idz, ., czesc, ., uciekaj, !, biegnij, ., uciekaj, ., kto, ?, o, ,, dziamdzia, zaprzala, jej, szadz, !, lal]\n",
      "English tokens:  [go, ., hi, ., run, !, run, ., run, ., who, ?, wow, !, wow, !, duck, !, fire, !]\n"
     ]
    }
   ],
   "source": [
    "# Example tokens\n",
    "print('Polish tokens: ', pl_list[:20])\n",
    "print('English tokens: ', en_list[:20])"
   ]
  },
  {
   "cell_type": "code",
   "execution_count": 155,
   "metadata": {},
   "outputs": [
    {
     "data": {
      "text/plain": [
       "<matplotlib.colorbar.Colorbar at 0x75c9f0154290>"
      ]
     },
     "execution_count": 155,
     "metadata": {},
     "output_type": "execute_result"
    },
    {
     "data": {
      "image/png": "[encoded data removed]",
      "text/plain": [
       "<Figure size 640x480 with 2 Axes>"
      ]
     },
     "metadata": {},
     "output_type": "display_data"
    }
   ],
   "source": [
    "# Sentence lengths comparison\n",
    "plt.hist2d(en_lengths, pl_lengths, cmap='binary', bins=6)\n",
    "plt.colorbar()"
   ]
  },
  {
   "cell_type": "code",
   "execution_count": 183,
   "metadata": {},
   "outputs": [],
   "source": [
    "# Create torchtext Vocabs from lists of tokens\n",
    "en_vocab = build_vocab_from_iterator([en_token_list], specials=SPECIALS)\n",
    "pl_vocab = build_vocab_from_iterator([pl_token_list], specials=SPECIALS)"
   ]
  },
  {
   "cell_type": "code",
   "execution_count": 184,
   "metadata": {},
   "outputs": [
    {
     "name": "stdout",
     "output_type": "stream",
     "text": [
      "\n",
      "  Training pairs: 815\n",
      "Validation pairs: 74\n",
      "      Test pairs: 111\n"
     ]
    }
   ],
   "source": [
    "VALID_PCT = 0.1\n",
    "TEST_PCT  = 0.1\n",
    "\n",
    "train_data = []\n",
    "valid_data = []\n",
    "test_data = []\n",
    "\n",
    "random.seed(6547)\n",
    "for (en, pl) in lines[:NUMBER_OF_SENTENCES]:\n",
    "    # Tokenizes words, takes each token and gets item from torchtext Vocab. __getitem__ from torchtext Vocab returns index of this token\n",
    "    en_tensor_ = torch.tensor([en_vocab[str(token)] for token in en_tokenizer(en)])\n",
    "    pl_tensor_ = torch.tensor([pl_vocab[str(token)] for token in pl_tokenizer(pl)]) \n",
    "    \n",
    "    # Gets random number from 0 to 1 and adds the token to the appropriate dataset\n",
    "    random_draw = random.random()\n",
    "    if random_draw <= VALID_PCT:\n",
    "        valid_data.append((en_tensor_, pl_tensor_))\n",
    "    elif random_draw <= VALID_PCT + TEST_PCT:\n",
    "        test_data.append((en_tensor_, pl_tensor_))\n",
    "    else:\n",
    "        train_data.append((en_tensor_, pl_tensor_))\n",
    "\n",
    "\n",
    "print(f\"\"\"\n",
    "  Training pairs: {len(train_data):,}\n",
    "Validation pairs: {len(valid_data):,}\n",
    "      Test pairs: {len(test_data):,}\"\"\")"
   ]
  },
  {
   "cell_type": "code",
   "execution_count": 180,
   "metadata": {},
   "outputs": [
    {
     "name": "stdout",
     "output_type": "stream",
     "text": [
      "Number of tokens: 2\n",
      "List of tokens: [idz, .]\n",
      "List of vocab tensor tokens: tensor([18,  0])\n"
     ]
    }
   ],
   "source": [
    "# Print comparison of one sentence\n",
    "tokens = pl_tokenizer(lines[0][1])\n",
    "print('Number of tokens:', len(tokens))\n",
    "print('List of tokens:', [token for token in tokens])\n",
    "print('List of vocab tensor tokens:', train_data[0][1])"
   ]
  },
  {
   "cell_type": "code",
   "execution_count": 189,
   "metadata": {},
   "outputs": [],
   "source": [
    "PAD_IDX = en_vocab['<pad>']\n",
    "BOS_IDX = en_vocab['<bos>']\n",
    "EOS_IDX = en_vocab['<eos>']\n",
    "\n",
    "# Checks if both vocabs have the same index for special characters\n",
    "for en_id, pl_id in zip(en_vocab.lookup_indices(SPECIALS), pl_vocab.lookup_indices(SPECIALS)):\n",
    "  assert en_id == pl_id"
   ]
  },
  {
   "cell_type": "code",
   "execution_count": 193,
   "metadata": {},
   "outputs": [],
   "source": [
    "def generate_batch(data_batch):\n",
    "    '''\n",
    "    Prepare English and Polish examples for batch-friendly modeling by appending\n",
    "    BOS/EOS tokens to each, stacking the tensors, and filling trailing spaces of\n",
    "    shorter sentences with the <pad> token. To be used as the collate_fn in the\n",
    "    English-to-French DataLoader.\n",
    "\n",
    "    Input: \n",
    "    - data_batch, an iterable of (English, Polish) tuples from the datasets \n",
    "      created above\n",
    "\n",
    "    Outputs\n",
    "    - en_batch: a (max length X batch size) tensor of English token IDs\n",
    "    - pl_batch: a (max length X batch size) tensor of Polish token IDs \n",
    "    '''\n",
    "    en_batch, pl_batch = [], []\n",
    "\n",
    "    # Add BOS and EOS at the beggining and end of sentences\n",
    "    for (en_item, pl_item) in data_batch:\n",
    "        en_batch.append(torch.cat([torch.tensor([BOS_IDX]), en_item, torch.tensor([EOS_IDX])], dim=0))\n",
    "        pl_batch.append(torch.cat([torch.tensor([BOS_IDX]), pl_item, torch.tensor([EOS_IDX])], dim=0))\n",
    "\n",
    "    # Pad the sentences so that they have the same length\n",
    "    en_batch = pad_sequence(en_batch, padding_value=PAD_IDX, batch_first=False)\n",
    "    pl_batch = pad_sequence(pl_batch, padding_value=PAD_IDX, batch_first=False)\n",
    "\n",
    "    return en_batch, pl_batch"
   ]
  },
  {
   "cell_type": "code",
   "execution_count": 194,
   "metadata": {},
   "outputs": [],
   "source": [
    "BATCH_SIZE = 16\n",
    "\n",
    "train_iter = DataLoader(train_data, batch_size=BATCH_SIZE, shuffle=True, collate_fn=generate_batch)\n",
    "valid_iter = DataLoader(valid_data, batch_size=BATCH_SIZE, shuffle=False, collate_fn=generate_batch)\n",
    "test_iter = DataLoader(test_data, batch_size=BATCH_SIZE, shuffle=False, collate_fn=generate_batch)\n"
   ]
  },
  {
   "cell_type": "code",
   "execution_count": 203,
   "metadata": {},
   "outputs": [
    {
     "name": "stdout",
     "output_type": "stream",
     "text": [
      "English: <bos> i 'm sad . <eos>\n",
      "French: <bos> jestem smutny . <eos> <pad>\n",
      "\n",
      "English: <bos> tom drank . <eos> <pad> <pad>\n",
      "French: <bos> tom pil . <eos> <pad> <pad>\n",
      "\n",
      "English: <bos> they left . <eos>\n",
      "French: <bos> wyszli . <eos> <pad>\n",
      "\n",
      "English: <bos> i drove . <eos> <pad>\n",
      "French: <bos> prowadzilem . <eos> <pad> <pad> <pad> <pad>\n",
      "\n",
      "English: <bos> get tom . <eos> <pad>\n",
      "French: <bos> zabierz toma . <eos> <pad>\n"
     ]
    }
   ],
   "source": [
    "# Check how sentences look in natural language\n",
    "for i, (en_id, pl_id) in enumerate(train_iter):\n",
    "    print('English:', ' '.join([en_vocab.lookup_token(idx) for idx in en_id[:, 0]]))\n",
    "    print('French:', ' '.join([pl_vocab.lookup_token(idx) for idx in pl_id[:, 0]]))\n",
    "    if i == 4: \n",
    "        break\n",
    "    else:\n",
    "        print()"
   ]
  },
  {
   "cell_type": "code",
   "execution_count": 205,
   "metadata": {},
   "outputs": [],
   "source": [
    "MAX_SENTENCE_LENGTH = 20"
   ]
  },
  {
   "cell_type": "code",
   "execution_count": 206,
   "metadata": {},
   "outputs": [],
   "source": [
    "ENCODER_EMBEDDING_DIM = 256\n",
    "DECODER_EMBEDDING_DIM = 256\n",
    "ENCODER_HIDDEN_DIM = 256\n",
    "DECODER_HIDDEN_DIM = 256\n",
    "SAVE_DIR = os.path.join(\".\", \"models\")"
   ]
  },
  {
   "cell_type": "code",
   "execution_count": null,
   "metadata": {},
   "outputs": [],
   "source": [
    "class BahdanauEncoder(nn.Module):\n",
    "    def __init__(self, input_dim, embedding_dim, encoder_hidden_dim, decoder_hidden_dim, dropout_p):\n",
    "        super().__init__()\n",
    "        self.input_dim = input_dim # Dictionary size\n",
    "        self.embedding_dim = embedding_dim # Size of embedding vector\n",
    "        self.encoder_hidden_dim = encoder_hidden_dim\n",
    "        self.decoder_hidden_dim = decoder_hidden_dim\n",
    "        self.dropout_p = dropout_p\n",
    "\n",
    "        self.embedding = nn.Embedding(input_dim, embedding_dim) \n",
    "\n",
    "        #Gated recurrent unit\n",
    "        self.gru = nn.GRU(embedding_dim, encoder_hidden_dim, bidirectional=True) \n",
    "        '''\n",
    "        For GRU parameters stand for:\n",
    "            * embedding dim - number of expected features in input x\n",
    "            * encoder_hidden_dim - number of features in hidden state h\n",
    "        '''\n",
    "\n",
    "        self.linear = nn.Linear(encoder_hidden_dim*2, decoder_hidden_dim)\n",
    "        self.dropout = nn.Dropout(dropout_p)\n",
    "\n",
    "    def forward(self, x):\n",
    "        embedded = self.dropout(self.embedding(x))\n",
    "        outputs, hidden = self.gru(embedded)\n",
    "        hidden = torch.tanh(self.linear(torch.cat((hidden[-2,:,:], hidden[-1,:,:]), dim=1)))\n",
    "        return outputs, hidden"
   ]
  },
  {
   "cell_type": "markdown",
   "metadata": {},
   "source": [
    "### Train Bahdanau seq2seq"
   ]
  },
  {
   "cell_type": "code",
   "execution_count": 216,
   "metadata": {},
   "outputs": [],
   "source": [
    "class MultipleOptimizer(object):\n",
    "    def __init__(self, *op):\n",
    "        self.optimizers = op\n",
    "        \n",
    "    def zero_grad(self):\n",
    "        for op in self.optimizers:\n",
    "            op.zero_grad()\n",
    "    \n",
    "    def step(self):\n",
    "        for op in self.optimizers:\n",
    "            op.step()"
   ]
  },
  {
   "cell_type": "code",
   "execution_count": 217,
   "metadata": {},
   "outputs": [],
   "source": [
    "def train(model, iterator, optimizer, loss_fn, device, clip=None):\n",
    "    model.train()\n",
    "    if model.device != device:\n",
    "        model = model.to(device)\n",
    "        \n",
    "    epoch_loss = 0\n",
    "    with tqdm(total=len(iterator), leave=False) as t:\n",
    "        for i, (src, tgt) in enumerate(iterator):\n",
    "            src_mask = (src != PAD_IDX).to(device)\n",
    "            src = src.to(device)\n",
    "            tgt = tgt.to(device)\n",
    "            \n",
    "            optimizer.zero_grad()\n",
    "            \n",
    "            output = model(src, tgt, src_mask)\n",
    "            \n",
    "            loss = loss_fn(output[1:].view(-1, output.shape[2]),\n",
    "                           tgt[1:].view(-1))\n",
    "            \n",
    "            loss.backward()\n",
    "            \n",
    "            if clip is not None:\n",
    "                nn.utils.clip_grad_norm_(model.parameters(), clip)\n",
    "            \n",
    "            optimizer.step()\n",
    "            epoch_loss += loss.item()\n",
    "            \n",
    "            avg_loss = epoch_loss / (i+1)\n",
    "            t.set_postfix(loss='{:05.3f}'.format(avg_loss),\n",
    "                          ppl='{:05.3f}'.format(np.exp(avg_loss)))\n",
    "            t.update()\n",
    "            \n",
    "    return epoch_loss / len(iterator)"
   ]
  },
  {
   "cell_type": "code",
   "execution_count": 218,
   "metadata": {},
   "outputs": [],
   "source": [
    "def evaluate(model, iterator, loss_fn, device):\n",
    "    model.eval()\n",
    "    if model.device != device:\n",
    "        model = model.to(device)\n",
    "        \n",
    "    epoch_loss = 0\n",
    "    with torch.no_grad():\n",
    "        with tqdm(total=len(iterator), leave=False) as t:\n",
    "            for i, (src, tgt) in enumerate(iterator):\n",
    "                src_mask = (src != PAD_IDX).to(device)\n",
    "                src = src.to(device)\n",
    "                tgt = tgt.to(device)\n",
    "                \n",
    "                output = model(src, tgt, src_mask, teacher_forcing_ratio=0)\n",
    "                loss = loss_fn(output[1:].view(-1, output.shape[2]),\n",
    "                               tgt[1:].view(-1))\n",
    "                \n",
    "                epoch_loss += loss.item()\n",
    "                \n",
    "                avg_loss = epoch_loss / (i+1)\n",
    "                t.set_postfix(loss='{:05.3f}'.format(avg_loss),\n",
    "                              ppl='{:05.3f}'.format(np.exp(avg_loss)))\n",
    "                t.update()\n",
    "    \n",
    "    return epoch_loss / len(iterator)"
   ]
  },
  {
   "cell_type": "code",
   "execution_count": 224,
   "metadata": {},
   "outputs": [],
   "source": [
    "if torch.cuda.is_available():\n",
    "    device = \"cuda\"\n",
    "else:\n",
    "    device = \"cpu\"\n",
    "    \n",
    "enc = BahdanauEncoder(len(en_vocab), ENCODER_EMBEDDING_DIM,\n",
    "                        ENCODER_HIDDEN_DIM, DECODER_HIDDEN_DIM, 0.15)\n",
    "attn = BahdanauAttentionQKV(DECODER_HIDDEN_DIM)\n",
    "dec = BahdanauDecoder(len(pl_vocab), DECODER_EMBEDDING_DIM,\n",
    "                        ENCODER_HIDDEN_DIM, DECODER_HIDDEN_DIM, attn, 0.15)\n",
    "seq2seq = BahdanauSeq2Seq(enc, dec, device)\n"
   ]
  },
  {
   "cell_type": "code",
   "execution_count": 225,
   "metadata": {},
   "outputs": [],
   "source": [
    "def count_params(model, return_int=False):\n",
    "    params = sum([torch.prod(torch.tensor(x.shape)).item() for x in model.parameters() if x.requires_grad])\n",
    "    if return_int:\n",
    "        return params\n",
    "    else:\n",
    "        print(\"There are {:,} trainable parameters in this model.\".format(params))"
   ]
  },
  {
   "cell_type": "code",
   "execution_count": 226,
   "metadata": {},
   "outputs": [
    {
     "name": "stdout",
     "output_type": "stream",
     "text": [
      "There are 3,151,216 trainable parameters in this model.\n"
     ]
    }
   ],
   "source": [
    "count_params(seq2seq)"
   ]
  },
  {
   "cell_type": "code",
   "execution_count": 227,
   "metadata": {},
   "outputs": [],
   "source": [
    "enc_optim = torch.optim.AdamW(seq2seq.encoder.parameters(), lr=1e-4)\n",
    "dec_optim = torch.optim.AdamW(seq2seq.decoder.parameters(), lr=1e-4)\n",
    "optims = MultipleOptimizer(enc_optim, dec_optim)\n",
    "loss_fn = nn.CrossEntropyLoss(ignore_index=PAD_IDX)"
   ]
  },
  {
   "cell_type": "code",
   "execution_count": 232,
   "metadata": {},
   "outputs": [
    {
     "name": "stderr",
     "output_type": "stream",
     "text": [
      "Epoch:   5%|▌         | 1/20 [00:04<01:25,  4.49s/it]"
     ]
    },
    {
     "name": "stdout",
     "output_type": "stream",
     "text": [
      "Checkpointing at epoch 1\n"
     ]
    },
    {
     "name": "stderr",
     "output_type": "stream",
     "text": [
      "Epoch:  10%|█         | 2/20 [00:08<01:18,  4.37s/it]"
     ]
    },
    {
     "name": "stdout",
     "output_type": "stream",
     "text": [
      "Checkpointing at epoch 2\n"
     ]
    },
    {
     "name": "stderr",
     "output_type": "stream",
     "text": [
      "Epoch:  15%|█▌        | 3/20 [00:12<01:10,  4.13s/it]"
     ]
    },
    {
     "name": "stdout",
     "output_type": "stream",
     "text": [
      "Checkpointing at epoch 3\n"
     ]
    },
    {
     "name": "stderr",
     "output_type": "stream",
     "text": [
      "Epoch:  20%|██        | 4/20 [00:16<01:02,  3.90s/it]"
     ]
    },
    {
     "name": "stdout",
     "output_type": "stream",
     "text": [
      "Checkpointing at epoch 4\n"
     ]
    },
    {
     "name": "stderr",
     "output_type": "stream",
     "text": [
      "Epoch:  30%|███       | 6/20 [00:23<00:53,  3.81s/it]"
     ]
    },
    {
     "name": "stdout",
     "output_type": "stream",
     "text": [
      "Checkpointing at epoch 6\n"
     ]
    },
    {
     "name": "stderr",
     "output_type": "stream",
     "text": [
      "Epoch:  35%|███▌      | 7/20 [00:27<00:49,  3.77s/it]"
     ]
    },
    {
     "name": "stdout",
     "output_type": "stream",
     "text": [
      "Checkpointing at epoch 7\n"
     ]
    },
    {
     "name": "stderr",
     "output_type": "stream",
     "text": [
      "Epoch:  40%|████      | 8/20 [00:31<00:44,  3.75s/it]"
     ]
    },
    {
     "name": "stdout",
     "output_type": "stream",
     "text": [
      "Checkpointing at epoch 8\n"
     ]
    },
    {
     "name": "stderr",
     "output_type": "stream",
     "text": [
      "Epoch:  45%|████▌     | 9/20 [00:34<00:40,  3.67s/it]"
     ]
    },
    {
     "name": "stdout",
     "output_type": "stream",
     "text": [
      "Checkpointing at epoch 9\n"
     ]
    },
    {
     "name": "stderr",
     "output_type": "stream",
     "text": [
      "Epoch:  50%|█████     | 10/20 [00:38<00:36,  3.67s/it]"
     ]
    },
    {
     "name": "stdout",
     "output_type": "stream",
     "text": [
      "Checkpointing at epoch 10\n"
     ]
    },
    {
     "name": "stderr",
     "output_type": "stream",
     "text": [
      "                                                      "
     ]
    },
    {
     "name": "stdout",
     "output_type": "stream",
     "text": [
      "Early stopping triggered in epoch 12\n"
     ]
    },
    {
     "name": "stderr",
     "output_type": "stream",
     "text": [
      "\r"
     ]
    }
   ],
   "source": [
    "N_EPOCHS = 20\n",
    "CLIP = 10 # clipping value, or None to prevent gradient clipping\n",
    "EARLY_STOPPING_EPOCHS = 2\n",
    "\n",
    "if not os.path.exists(SAVE_DIR):\n",
    "    print(f\"Creating directory {SAVE_DIR}\")\n",
    "    os.mkdir(SAVE_DIR)\n",
    "    \n",
    "model_path = os.path.join(SAVE_DIR, 'bahdanau_en_fr.pt')\n",
    "bahdanau_metrics = {}\n",
    "best_valid_loss = float(\"inf\")\n",
    "early_stopping_count = 0\n",
    "for epoch in tqdm(range(N_EPOCHS), leave=False, desc=\"Epoch\"):\n",
    "    train_loss = train(seq2seq, train_iter, optims, loss_fn, device, clip=CLIP)\n",
    "    valid_loss = evaluate(seq2seq, valid_iter, loss_fn, device)\n",
    "    \n",
    "    if valid_loss < best_valid_loss:\n",
    "        tqdm.write(f\"Checkpointing at epoch {epoch + 1}\")\n",
    "        best_valid_loss = valid_loss\n",
    "        torch.save(seq2seq.state_dict(), model_path)\n",
    "        early_stopping_count = 0\n",
    "    else:\n",
    "        early_stopping_count += 1\n",
    "    \n",
    "    bahdanau_metrics[epoch+1] = dict(\n",
    "        train_loss = train_loss,\n",
    "        train_ppl = np.exp(train_loss),\n",
    "        valid_loss = valid_loss,\n",
    "        valid_ppl = np.exp(valid_loss)\n",
    "    )\n",
    "    \n",
    "    if early_stopping_count == EARLY_STOPPING_EPOCHS:\n",
    "        tqdm.write(f\"Early stopping triggered in epoch {epoch + 1}\")\n",
    "        break"
   ]
  },
  {
   "cell_type": "code",
   "execution_count": 233,
   "metadata": {},
   "outputs": [
    {
     "data": {
      "text/plain": [
       "<All keys matched successfully>"
      ]
     },
     "execution_count": 233,
     "metadata": {},
     "output_type": "execute_result"
    }
   ],
   "source": [
    "seq2seq.load_state_dict(torch.load(model_path, map_location=device))"
   ]
  },
  {
   "cell_type": "code",
   "execution_count": 235,
   "metadata": {},
   "outputs": [
    {
     "data": {
      "image/png": "[encoded data removed]",
      "text/plain": [
       "<Figure size 1000x600 with 1 Axes>"
      ]
     },
     "metadata": {},
     "output_type": "display_data"
    },
    {
     "data": {
      "image/png": "[encoded data removed]",
      "text/plain": [
       "<Figure size 1000x600 with 1 Axes>"
      ]
     },
     "metadata": {},
     "output_type": "display_data"
    }
   ],
   "source": [
    "bahdanau_metrics_df = pd.DataFrame(bahdanau_metrics).T\n",
    "\n",
    "plt.figure(figsize=(10,6))\n",
    "plt.plot(bahdanau_metrics_df['train_loss'], label=\"Training\", color='gray', linestyle='solid', lw=2.5)\n",
    "plt.plot(bahdanau_metrics_df['valid_loss'], label=\"Validation\", color='gray', linestyle='dashed', lw=2.5)\n",
    "plt.legend()\n",
    "plt.title(\"Bahdanau Attention: Loss\")\n",
    "plt.xlabel(\"Epoch\")\n",
    "plt.ylabel(\"Loss\")\n",
    "plt.show()\n",
    "\n",
    "plt.figure(figsize=(10,6))\n",
    "plt.plot(bahdanau_metrics_df['train_ppl'], label=\"Training\", color='gray', linestyle='solid', lw=2.5)\n",
    "plt.plot(bahdanau_metrics_df['valid_ppl'], label=\"Validation\", color='gray', linestyle='dashed', lw=2.5)\n",
    "plt.legend()\n",
    "plt.title(\"Bahdanau Attention: Perplexity\")\n",
    "plt.xlabel(\"Epoch\")\n",
    "plt.ylabel(\"Perplexity\")\n",
    "plt.show()"
   ]
  },
  {
   "cell_type": "code",
   "execution_count": 236,
   "metadata": {},
   "outputs": [
    {
     "data": {
      "text/plain": [
       "3.6063316822052003"
      ]
     },
     "execution_count": 236,
     "metadata": {},
     "output_type": "execute_result"
    }
   ],
   "source": [
    "best_valid_loss"
   ]
  },
  {
   "cell_type": "code",
   "execution_count": 242,
   "metadata": {},
   "outputs": [],
   "source": [
    "def predict_text(model, text, device=device, src_vocab=en_vocab, src_tokenizer=en_tokenizer, tgt_vocab=pl_vocab):\n",
    "    model.eval()\n",
    "    with torch.no_grad():\n",
    "        input_ids = [src_vocab[str(token)] for token in src_tokenizer(text)]\n",
    "        input_ids = [BOS_IDX] + input_ids + [EOS_IDX]\n",
    "        input_tensor = torch.tensor(input_ids).to(device).unsqueeze(1) # add fake batch dim\n",
    "        max_len = 2*len(input_ids)\n",
    "        encoder_outputs, hidden = model.encoder(input_tensor)\n",
    "        \n",
    "        output = torch.tensor([BOS_IDX]).to(device)\n",
    "        \n",
    "        decoder_outputs = torch.zeros(max_len, 1, len(tgt_vocab)).to(device)\n",
    "        \n",
    "        decoded_words = []\n",
    "        decoder_attentions = torch.zeros(max_len, len(input_ids))\n",
    "        for t in range(0, max_len):\n",
    "            output, hidden, attn = model.decoder(output, hidden, encoder_outputs)\n",
    "            decoder_attentions[t] = attn.data\n",
    "            decoder_outputs[t] = output\n",
    "            output = output.argmax(1)\n",
    "            \n",
    "            if output.item() == EOS_IDX:\n",
    "                decoded_words.append('<eos>')\n",
    "                break\n",
    "            else:\n",
    "                decoded_words.append(tgt_vocab.lookup_token(output.item()))\n",
    "        \n",
    "        output_sentence = ' '.join(decoded_words)\n",
    "        return output_sentence, decoder_attentions[:(t+1)]\n",
    "\n",
    "def show_attention(input_sentence, output_sentence, attentions, figsize=(8,6)):\n",
    "    fig = plt.figure(figsize=figsize)\n",
    "    ax = fig.add_subplot(111)\n",
    "    cax = ax.matshow(attentions.numpy(), cmap='gray')\n",
    "    fig.colorbar(cax)\n",
    "    \n",
    "    src = ['', '<bos>'] + input_sentence.split(' ') + ['<eos>']\n",
    "    tgt = [''] + output_sentence.split(' ')\n",
    "    ax.set_xticklabels(src, rotation=90)\n",
    "    ax.set_yticklabels(tgt)\n",
    "    \n",
    "    ax.xaxis.set_major_locator(ticker.MultipleLocator(1))\n",
    "    ax.yaxis.set_major_locator(ticker.MultipleLocator(1))\n",
    "    \n",
    "    plt.show()\n",
    "\n",
    "def predict_and_show_attention(sentence, model, device):\n",
    "    result, attentions = predict_text(model, sentence, device)\n",
    "    \n",
    "    print(\"Input  >>>\", sentence)\n",
    "    print(\"Output >>>\", result)\n",
    "    \n",
    "    show_attention(sentence, result, attentions)"
   ]
  },
  {
   "cell_type": "code",
   "execution_count": 251,
   "metadata": {},
   "outputs": [
    {
     "name": "stdout",
     "output_type": "stream",
     "text": [
      "Input  >>> run!\n",
      "Output >>> nie ! <eos>\n"
     ]
    },
    {
     "name": "stderr",
     "output_type": "stream",
     "text": [
      "/tmp/ipykernel_4646/2634427566.py:39: UserWarning: set_ticklabels() should only be used with a fixed number of ticks, i.e. after set_ticks() or using a FixedLocator.\n",
      "  ax.set_xticklabels(src, rotation=90)\n",
      "/tmp/ipykernel_4646/2634427566.py:40: UserWarning: set_ticklabels() should only be used with a fixed number of ticks, i.e. after set_ticks() or using a FixedLocator.\n",
      "  ax.set_yticklabels(tgt)\n"
     ]
    },
    {
     "data": {
      "image/png": "[encoded data removed]",
      "text/plain": [
       "<Figure size 800x600 with 2 Axes>"
      ]
     },
     "metadata": {},
     "output_type": "display_data"
    }
   ],
   "source": [
    "predict_and_show_attention(lines[2][0], seq2seq, device)"
   ]
  },
  {
   "cell_type": "markdown",
   "metadata": {},
   "source": [
    "## Transformer Encoder-Decoder"
   ]
  },
  {
   "cell_type": "code",
   "execution_count": 253,
   "metadata": {},
   "outputs": [],
   "source": [
    "def train_transformer(model, iterator, optimizer, loss_fn, device, clip=None):\n",
    "    model.train()\n",
    "        \n",
    "    epoch_loss = 0\n",
    "    with tqdm(total=len(iterator), leave=False) as t:\n",
    "        for i, (src, tgt) in enumerate(iterator):\n",
    "            src = src.to(device)\n",
    "            tgt = tgt.to(device)\n",
    "            \n",
    "            # Create tgt_inp and tgt_out (which is tgt_inp but shifted by 1)\n",
    "            tgt_inp, tgt_out = tgt[:-1, :], tgt[1:, :]\n",
    "\n",
    "            tgt_mask = model.transformer.generate_square_subsequent_mask(tgt_inp.size(0)).to(device)\n",
    "            src_key_padding_mask = (src == PAD_IDX).transpose(0, 1)\n",
    "            tgt_key_padding_mask = (tgt_inp == PAD_IDX).transpose(0, 1)\n",
    "            memory_key_padding_mask = src_key_padding_mask.clone()\n",
    "            \n",
    "            optimizer.zero_grad()\n",
    "            \n",
    "            output = model(src=src, tgt=tgt_inp, \n",
    "                           tgt_mask=tgt_mask,\n",
    "                           src_key_padding_mask = src_key_padding_mask,\n",
    "                           tgt_key_padding_mask = tgt_key_padding_mask,\n",
    "                           memory_key_padding_mask = memory_key_padding_mask)\n",
    "            \n",
    "            loss = loss_fn(output.view(-1, output.shape[2]),\n",
    "                           tgt_out.view(-1))\n",
    "            \n",
    "            loss.backward()\n",
    "            \n",
    "            if clip is not None:\n",
    "                nn.utils.clip_grad_norm_(model.parameters(), clip)\n",
    "            \n",
    "            optimizer.step()\n",
    "            epoch_loss += loss.item()\n",
    "            \n",
    "            avg_loss = epoch_loss / (i+1)\n",
    "            t.set_postfix(loss='{:05.3f}'.format(avg_loss),\n",
    "                          ppl='{:05.3f}'.format(np.exp(avg_loss)))\n",
    "            t.update()\n",
    "            \n",
    "    return epoch_loss / len(iterator)\n",
    "    \n",
    "def evaluate_transformer(model, iterator, loss_fn, device):\n",
    "    model.eval()\n",
    "        \n",
    "    epoch_loss = 0\n",
    "    with torch.no_grad():\n",
    "        with tqdm(total=len(iterator), leave=False) as t:\n",
    "            for i, (src, tgt) in enumerate(iterator):\n",
    "                src = src.to(device)\n",
    "                tgt = tgt.to(device)\n",
    "                \n",
    "                # Create tgt_inp and tgt_out (which is tgt_inp but shifted by 1)\n",
    "                tgt_inp, tgt_out = tgt[:-1, :], tgt[1:, :]\n",
    "                \n",
    "                tgt_mask = model.transformer.generate_square_subsequent_mask(tgt_inp.size(0)).to(device)\n",
    "                src_key_padding_mask = (src == PAD_IDX).transpose(0, 1)\n",
    "                tgt_key_padding_mask = (tgt_inp == PAD_IDX).transpose(0, 1)\n",
    "                memory_key_padding_mask = src_key_padding_mask.clone()\n",
    "\n",
    "                output = model(src=src, tgt=tgt_inp, \n",
    "                               tgt_mask=tgt_mask,\n",
    "                               src_key_padding_mask = src_key_padding_mask,\n",
    "                               tgt_key_padding_mask = tgt_key_padding_mask,\n",
    "                               memory_key_padding_mask = memory_key_padding_mask)\n",
    "                \n",
    "                loss = loss_fn(output.view(-1, output.shape[2]),\n",
    "                               tgt_out.view(-1))\n",
    "                \n",
    "                epoch_loss += loss.item()\n",
    "                \n",
    "                avg_loss = epoch_loss / (i+1)\n",
    "                t.set_postfix(loss='{:05.3f}'.format(avg_loss),\n",
    "                              ppl='{:05.3f}'.format(np.exp(avg_loss)))\n",
    "                t.update()\n",
    "    \n",
    "    return epoch_loss / len(iterator)"
   ]
  },
  {
   "cell_type": "code",
   "execution_count": 255,
   "metadata": {},
   "outputs": [
    {
     "name": "stderr",
     "output_type": "stream",
     "text": [
      "/home/jakub/anaconda3/envs/transformers/lib/python3.12/site-packages/torch/nn/modules/transformer.py:306: UserWarning: enable_nested_tensor is True, but self.use_nested_tensor is False because encoder_layer.self_attn.batch_first was not True(use batch_first for better inference performance)\n",
      "  warnings.warn(f\"enable_nested_tensor is True, but self.use_nested_tensor is False because {why_not_sparsity_fast_path}\")\n"
     ]
    }
   ],
   "source": [
    "transformer = TransformerModel(input_dim=len(en_vocab), \n",
    "                             output_dim=len(pl_vocab), \n",
    "                             d_model=256, \n",
    "                             num_attention_heads=8,\n",
    "                             num_encoder_layers=6, \n",
    "                             num_decoder_layers=6, \n",
    "                             dim_feedforward=2048,\n",
    "                             max_seq_length=32,\n",
    "                             pos_dropout=0.15,\n",
    "                             transformer_dropout=0.3)\n",
    "\n",
    "transformer = transformer.to(device)"
   ]
  },
  {
   "cell_type": "code",
   "execution_count": 256,
   "metadata": {},
   "outputs": [
    {
     "name": "stdout",
     "output_type": "stream",
     "text": [
      "There are 17,933,935 trainable parameters in this model.\n"
     ]
    }
   ],
   "source": [
    "count_params(transformer)"
   ]
  },
  {
   "cell_type": "code",
   "execution_count": 257,
   "metadata": {},
   "outputs": [],
   "source": [
    "xf_optim = torch.optim.AdamW(transformer.parameters(), lr=1e-4)"
   ]
  },
  {
   "cell_type": "code",
   "execution_count": 258,
   "metadata": {},
   "outputs": [
    {
     "name": "stderr",
     "output_type": "stream",
     "text": [
      "Epoch:   0%|          | 0/50 [00:00<?, ?it/s]/home/jakub/anaconda3/envs/transformers/lib/python3.12/site-packages/torch/nn/functional.py:5137: UserWarning: Support for mismatched key_padding_mask and attn_mask is deprecated. Use same type for both instead.\n",
      "  warnings.warn(\n",
      "Epoch:   2%|▏         | 1/50 [00:15<12:32, 15.36s/it]"
     ]
    },
    {
     "name": "stdout",
     "output_type": "stream",
     "text": [
      "Checkpointing at epoch 1\n"
     ]
    },
    {
     "name": "stderr",
     "output_type": "stream",
     "text": [
      "Epoch:   6%|▌         | 3/50 [00:42<10:51, 13.87s/it]"
     ]
    },
    {
     "name": "stdout",
     "output_type": "stream",
     "text": [
      "Checkpointing at epoch 3\n"
     ]
    },
    {
     "name": "stderr",
     "output_type": "stream",
     "text": [
      "Epoch:   8%|▊         | 4/50 [00:55<10:19, 13.48s/it]"
     ]
    },
    {
     "name": "stdout",
     "output_type": "stream",
     "text": [
      "Checkpointing at epoch 4\n"
     ]
    },
    {
     "name": "stderr",
     "output_type": "stream",
     "text": [
      "Epoch:  10%|█         | 5/50 [01:08<09:54, 13.21s/it]"
     ]
    },
    {
     "name": "stdout",
     "output_type": "stream",
     "text": [
      "Checkpointing at epoch 5\n"
     ]
    },
    {
     "name": "stderr",
     "output_type": "stream",
     "text": [
      "Epoch:  12%|█▏        | 6/50 [01:21<09:38, 13.15s/it]"
     ]
    },
    {
     "name": "stdout",
     "output_type": "stream",
     "text": [
      "Checkpointing at epoch 6\n"
     ]
    },
    {
     "name": "stderr",
     "output_type": "stream",
     "text": [
      "Epoch:  14%|█▍        | 7/50 [01:33<09:15, 12.93s/it]"
     ]
    },
    {
     "name": "stdout",
     "output_type": "stream",
     "text": [
      "Checkpointing at epoch 7\n"
     ]
    },
    {
     "name": "stderr",
     "output_type": "stream",
     "text": [
      "Epoch:  16%|█▌        | 8/50 [01:46<09:04, 12.97s/it]"
     ]
    },
    {
     "name": "stdout",
     "output_type": "stream",
     "text": [
      "Checkpointing at epoch 8\n"
     ]
    },
    {
     "name": "stderr",
     "output_type": "stream",
     "text": [
      "Epoch:  18%|█▊        | 9/50 [01:59<08:49, 12.91s/it]"
     ]
    },
    {
     "name": "stdout",
     "output_type": "stream",
     "text": [
      "Checkpointing at epoch 9\n"
     ]
    },
    {
     "name": "stderr",
     "output_type": "stream",
     "text": [
      "Epoch:  20%|██        | 10/50 [02:11<08:27, 12.69s/it]"
     ]
    },
    {
     "name": "stdout",
     "output_type": "stream",
     "text": [
      "Checkpointing at epoch 10\n"
     ]
    },
    {
     "name": "stderr",
     "output_type": "stream",
     "text": [
      "Epoch:  22%|██▏       | 11/50 [02:24<08:10, 12.58s/it]"
     ]
    },
    {
     "name": "stdout",
     "output_type": "stream",
     "text": [
      "Checkpointing at epoch 11\n"
     ]
    },
    {
     "name": "stderr",
     "output_type": "stream",
     "text": [
      "Epoch:  24%|██▍       | 12/50 [02:37<08:05, 12.77s/it]"
     ]
    },
    {
     "name": "stdout",
     "output_type": "stream",
     "text": [
      "Checkpointing at epoch 12\n"
     ]
    },
    {
     "name": "stderr",
     "output_type": "stream",
     "text": [
      "Epoch:  30%|███       | 15/50 [03:13<07:11, 12.32s/it]"
     ]
    },
    {
     "name": "stdout",
     "output_type": "stream",
     "text": [
      "Checkpointing at epoch 15\n"
     ]
    },
    {
     "name": "stderr",
     "output_type": "stream",
     "text": [
      "Epoch:  32%|███▏      | 16/50 [03:26<07:05, 12.51s/it]"
     ]
    },
    {
     "name": "stdout",
     "output_type": "stream",
     "text": [
      "Checkpointing at epoch 16\n"
     ]
    },
    {
     "name": "stderr",
     "output_type": "stream",
     "text": [
      "Epoch:  36%|███▌      | 18/50 [03:51<06:39, 12.49s/it]"
     ]
    },
    {
     "name": "stdout",
     "output_type": "stream",
     "text": [
      "Checkpointing at epoch 18\n"
     ]
    },
    {
     "name": "stderr",
     "output_type": "stream",
     "text": [
      "Epoch:  44%|████▍     | 22/50 [04:53<06:12, 13.32s/it]"
     ]
    },
    {
     "name": "stdout",
     "output_type": "stream",
     "text": [
      "Early stopping triggered in epoch 23\n",
      "CPU times: user 1h 7min 22s, sys: 20.9 s, total: 1h 7min 43s\n",
      "Wall time: 4min 53s\n"
     ]
    },
    {
     "name": "stderr",
     "output_type": "stream",
     "text": [
      "\n"
     ]
    }
   ],
   "source": [
    "%%time\n",
    "N_EPOCHS = 50\n",
    "CLIP = 15 # clipping value, or None to prevent gradient clipping\n",
    "EARLY_STOPPING_EPOCHS = 5\n",
    "    \n",
    "model_path = os.path.join(SAVE_DIR, 'transformer_en_fr.pt')\n",
    "transformer_metrics = {}\n",
    "best_valid_loss = float(\"inf\")\n",
    "early_stopping_count = 0\n",
    "for epoch in tqdm(range(N_EPOCHS), desc=\"Epoch\"):\n",
    "    train_loss = train_transformer(transformer, train_iter, xf_optim, loss_fn, device, clip=CLIP)\n",
    "    valid_loss = evaluate_transformer(transformer, valid_iter, loss_fn, device)\n",
    "    \n",
    "    if valid_loss < best_valid_loss:\n",
    "        tqdm.write(f\"Checkpointing at epoch {epoch + 1}\")\n",
    "        best_valid_loss = valid_loss\n",
    "        torch.save(transformer.state_dict(), model_path)\n",
    "        early_stopping_count = 0\n",
    "    elif epoch > EARLY_STOPPING_EPOCHS:\n",
    "        early_stopping_count += 1\n",
    "    \n",
    "    transformer_metrics[epoch+1] = dict(\n",
    "        train_loss = train_loss,\n",
    "        train_ppl = np.exp(train_loss),\n",
    "        valid_loss = valid_loss,\n",
    "        valid_ppl = np.exp(valid_loss)\n",
    "    )\n",
    "    \n",
    "    if early_stopping_count == EARLY_STOPPING_EPOCHS:\n",
    "        tqdm.write(f\"Early stopping triggered in epoch {epoch + 1}\")\n",
    "        break"
   ]
  },
  {
   "cell_type": "code",
   "execution_count": 259,
   "metadata": {},
   "outputs": [
    {
     "data": {
      "text/plain": [
       "<All keys matched successfully>"
      ]
     },
     "execution_count": 259,
     "metadata": {},
     "output_type": "execute_result"
    }
   ],
   "source": [
    "transformer.load_state_dict(torch.load(model_path, map_location=device))"
   ]
  },
  {
   "cell_type": "code",
   "execution_count": 260,
   "metadata": {},
   "outputs": [
    {
     "data": {
      "image/png": "[encoded data removed]",
      "text/plain": [
       "<Figure size 1000x600 with 1 Axes>"
      ]
     },
     "metadata": {},
     "output_type": "display_data"
    },
    {
     "data": {
      "image/png": "[encoded data removed]",
      "text/plain": [
       "<Figure size 1000x600 with 1 Axes>"
      ]
     },
     "metadata": {},
     "output_type": "display_data"
    }
   ],
   "source": [
    "transformer_metrics_df = pd.DataFrame(transformer_metrics).T\n",
    "\n",
    "plt.figure(figsize=(10,6))\n",
    "plt.plot(transformer_metrics_df['train_loss'], label=\"Training\", color='gray', linestyle='solid', lw=2.5)\n",
    "plt.plot(transformer_metrics_df['valid_loss'], label=\"Validation\", color='gray', linestyle='dashed', lw=2.5)\n",
    "plt.legend()\n",
    "plt.title(\"Transformer: Loss\")\n",
    "plt.xlabel(\"Epoch\")\n",
    "plt.ylabel(\"Loss\")\n",
    "plt.show()\n",
    "\n",
    "plt.figure(figsize=(10,6))\n",
    "plt.plot(transformer_metrics_df['train_ppl'], label=\"Training\", color='gray', linestyle='solid', lw=2.5)\n",
    "plt.plot(transformer_metrics_df['valid_ppl'], label=\"Validation\", color='gray', linestyle='dashed', lw=2.5)\n",
    "plt.legend()\n",
    "plt.title(\"Transformer: Perplexity\")\n",
    "plt.xlabel(\"Epoch\")\n",
    "plt.ylabel(\"Perplexity\")\n",
    "plt.show()"
   ]
  },
  {
   "cell_type": "code",
   "execution_count": 261,
   "metadata": {},
   "outputs": [
    {
     "data": {
      "text/plain": [
       "3.088576602935791"
      ]
     },
     "execution_count": 261,
     "metadata": {},
     "output_type": "execute_result"
    }
   ],
   "source": [
    "best_valid_loss"
   ]
  },
  {
   "cell_type": "code",
   "execution_count": 266,
   "metadata": {},
   "outputs": [],
   "source": [
    "def predict_transformer(text, model, \n",
    "                        src_vocab=en_vocab, \n",
    "                        src_tokenizer=en_tokenizer, \n",
    "                        tgt_vocab=pl_vocab, \n",
    "                        device=device):\n",
    "    \n",
    "    input_ids = [src_vocab[str(token)] for token in src_tokenizer(text)]\n",
    "    input_ids = [BOS_IDX] + input_ids + [EOS_IDX]\n",
    "    \n",
    "    model.eval()\n",
    "    with torch.no_grad():\n",
    "        input_tensor = torch.tensor(input_ids).to(device).unsqueeze(1) # add fake batch dim\n",
    "        \n",
    "        causal_out = torch.ones(MAX_SENTENCE_LENGTH, 1).long().to(device) * BOS_IDX\n",
    "        for t in range(1, MAX_SENTENCE_LENGTH):\n",
    "            decoder_output = transformer(input_tensor, causal_out[:t, :])[-1, :, :]\n",
    "            next_token = decoder_output.data.topk(1)[1].squeeze()\n",
    "            causal_out[t, :] = next_token\n",
    "            if next_token.item() == EOS_IDX:\n",
    "                break\n",
    "                \n",
    "        pred_words = [tgt_vocab.lookup_token(tok.item()) for tok in causal_out.squeeze(1)[1:(t)]]\n",
    "        return \" \".join(pred_words)"
   ]
  },
  {
   "cell_type": "code",
   "execution_count": 272,
   "metadata": {},
   "outputs": [
    {
     "name": "stdout",
     "output_type": "stream",
     "text": [
      "Original: go.\n",
      "Output: nie nie idz . \n",
      "\n",
      "Original: hi.\n",
      "Output: nie idz . \n",
      "\n",
      "Original: run!\n",
      "Output: nie nie nie nie nie nie nie nie nie nie nie nie nie nie nie nie nie nie \n",
      "\n",
      "Original: run.\n",
      "Output: prosze sie \n",
      "\n",
      "Original: run.\n",
      "Output: prosze sie \n",
      "\n",
      "Original: who?\n",
      "Output: kto ? \n",
      "\n",
      "Original: wow!\n",
      "Output: nie nie nie nie nie nie nie nie nie nie nie nie nie nie nie nie nie nie \n",
      "\n",
      "Original: wow!\n",
      "Output: nie nie nie nie nie nie nie nie nie nie nie nie nie nie nie nie nie nie \n",
      "\n",
      "Original: duck!\n",
      "Output: nie nie nie nie nie nie nie nie nie nie nie nie nie nie nie nie nie nie \n",
      "\n",
      "Original: fire!\n",
      "Output: nie nie nie nie nie nie nie nie nie nie nie nie nie nie nie nie nie nie \n",
      "\n"
     ]
    }
   ],
   "source": [
    "for i in range(10):\n",
    "    print('Original:', lines[i][0])\n",
    "    print('Output:', predict_transformer(lines[i][0], transformer), '\\n')"
   ]
  }
 ],
 "metadata": {
  "kernelspec": {
   "display_name": "transformers",
   "language": "python",
   "name": "python3"
  },
  "language_info": {
   "codemirror_mode": {
    "name": "ipython",
    "version": 3
   },
   "file_extension": ".py",
   "mimetype": "text/x-python",
   "name": "python",
   "nbconvert_exporter": "python",
   "pygments_lexer": "ipython3",
   "version": "3.12.2"
  }
 },
 "nbformat": 4,
 "nbformat_minor": 2
}
